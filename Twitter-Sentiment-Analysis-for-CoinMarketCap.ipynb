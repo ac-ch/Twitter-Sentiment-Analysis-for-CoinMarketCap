{
 "cells": [
  {
   "cell_type": "markdown",
   "metadata": {},
   "source": [
    "# Twitter Sentiment Analysis for Coinmarketcap\n",
    "\n",
    "Get the top 10 cryptocurrencies with Coinmarketcap APIs and analyse the user sentiments with Twitter APIs.\n",
    "Therefore, we have 2 stepts:\n",
    "1. Create a function to give you the list of Top10 cryptocurrencies from Coinmarketcap.\n",
    "2. Create a procedure to get and analyse the sentiment 15 tweets for a cryptocurrency.\n",
    "3. Use the above to analyse the sentiment for all Top10 cryptocurrencies."
   ]
  },
  {
   "cell_type": "markdown",
   "metadata": {},
   "source": [
    "## Step 1: Get Top10 cryptocurrencies from Coinmarketcap\n",
    "\n",
    "We will use *urllib.request* to read the output of an URL and *json* to understand the API result from the URL."
   ]
  },
  {
   "cell_type": "code",
   "execution_count": 1,
   "metadata": {},
   "outputs": [],
   "source": [
    "def GetTop10cryptos():\n",
    "    # use APIs from coinmarketcap.com to get top10 cryptos (name and website_slug)\n",
    "    # output: a list of pairs (name and website_slug) for each crypto\n",
    "    \n",
    "    # import libraries for Coinmarketcap\n",
    "    import urllib.request # get the API result from URL\n",
    "    import json           # handling of JSON API results\n",
    "    \n",
    "    # define the Coinmarketcap API URL for top 10 coins (\"limit=10\")\n",
    "    url = \"https://api.coinmarketcap.com/v2/ticker/?limit=10\"\n",
    "\n",
    "    # open url and read as JSON format the output\n",
    "    data = json.loads(urllib.request.urlopen(url).read()) # JSON  = dictionary\n",
    "    \n",
    "    # initialize an empty list with top crypto to search later in Twitter\n",
    "    cryptos = []\n",
    "\n",
    "    # append only (names, website slug) for each crypto in top10\n",
    "    for x, y in (data['data']).items():\n",
    "        cryptos.append((y['name'], y['website_slug']))\n",
    "    \n",
    "    return cryptos # return list of pairs (name,website_slug) for each crypto"
   ]
  },
  {
   "cell_type": "markdown",
   "metadata": {},
   "source": [
    "Testing the function: let's get the Top10 cryptos:"
   ]
  },
  {
   "cell_type": "code",
   "execution_count": 2,
   "metadata": {},
   "outputs": [
    {
     "name": "stdout",
     "output_type": "stream",
     "text": [
      "-> Testing Coinmarketcap API - Top 10 cryptos:\n",
      "Bitcoin  OR  bitcoin\n",
      "Ethereum  OR  ethereum\n",
      "XRP  OR  ripple\n",
      "Bitcoin Cash  OR  bitcoin-cash\n",
      "EOS  OR  eos\n",
      "Stellar  OR  stellar\n",
      "Litecoin  OR  litecoin\n",
      "Cardano  OR  cardano\n",
      "Tether  OR  tether\n",
      "Monero  OR  monero\n"
     ]
    }
   ],
   "source": [
    "print('-> Testing Coinmarketcap API - Top 10 cryptos:')\n",
    "for crypto in GetTop10cryptos():\n",
    "    print(crypto[0],' OR ' , crypto[1])"
   ]
  },
  {
   "cell_type": "markdown",
   "metadata": {},
   "source": [
    "## Step 2: Get and analyse the sentiment 15 tweets for a crypto\n",
    "\n",
    "You will use two packages:\n",
    "* *tweepy* to receive tweets; you will need your API information (consumer key, consumer secret, access token and access secret) from your twitter developer account (https://developer.twitter.com/en/docs/basics/authentication/guides/access-tokens.html).\n",
    "* *TextBlob* for sentiment analysis.\n",
    "\n",
    "Let's first design a procedure to save your twitter API data:"
   ]
  },
  {
   "cell_type": "code",
   "execution_count": 3,
   "metadata": {},
   "outputs": [],
   "source": [
    "def SaveTwitterCredentials(file2save):\n",
    "    import json \n",
    "    # Enter your keys/secrets as strings in the following fields\n",
    "    credentials = {}  \n",
    "    credentials['CONSUMER_KEY']    = 'YOUR DATA'  \n",
    "    credentials['CONSUMER_SECRET'] = 'YOUR DATA'  \n",
    "    credentials['ACCESS_TOKEN']    = 'YOUR DATA'  \n",
    "    credentials['ACCESS_SECRET']   = 'YOUR DATA'\n",
    "\n",
    "    # Save the credentials object to file\n",
    "    print('-> Saving twitter API credentials',file2save,'...')\n",
    "    with open(file2save, \"w\") as file:  \n",
    "        json.dump(credentials, file)\n",
    "    print('Done!')\n",
    "    return"
   ]
  },
  {
   "cell_type": "markdown",
   "metadata": {},
   "source": [
    "Saving credential for Twitter API:"
   ]
  },
  {
   "cell_type": "code",
   "execution_count": 4,
   "metadata": {},
   "outputs": [
    {
     "name": "stdout",
     "output_type": "stream",
     "text": [
      "-> Saving twitter API credentials twitter_credentials.json ...\n",
      "Done!\n"
     ]
    }
   ],
   "source": [
    "SaveTwitterCredentials(\"twitter_credentials.json\")"
   ]
  },
  {
   "cell_type": "code",
   "execution_count": 5,
   "metadata": {},
   "outputs": [],
   "source": [
    "def GetTweetSentiments(crypto,language='en'):\n",
    "    # get tweets and analyse sentiment polarity and subjectivity for a specific language\n",
    "    # INPUTS:\n",
    "    # - crypto   = (name,website_slug) for a crypto\n",
    "    # - language = en (default); if can be \"es\", etc.\n",
    "    # OUTPUTS:\n",
    "    # - (tweets mean polarity, tweets mean subjectivity)\n",
    "    \n",
    "    from twython import Twython\n",
    "    from textblob import TextBlob\n",
    "    import re, json\n",
    "    import pandas as pd\n",
    "    \n",
    "    # Load credentials from json file\n",
    "    with open(\"twitter_credentials.json\", \"r\") as file:  \n",
    "        creds = json.load(file)\n",
    "\n",
    "    # Instantiate an object for tweets\n",
    "    python_tweets = Twython(creds['CONSUMER_KEY'], creds['CONSUMER_SECRET'])\n",
    "    \n",
    "    # create search with 2 words: crypto name and website_slug\n",
    "    keywords = \" OR \".join(crypto)\n",
    "    \n",
    "    # Create our query\n",
    "    query = {'q': keywords,  \n",
    "            'result_type': 'popular',\n",
    "            'lang': language}\n",
    "\n",
    "    # create dictionary to retrive tweets info\n",
    "    dict_ = {'crypto': [], 'date': [], 'text': [], 'polarity': [], 'subjectivity': []}  \n",
    "    \n",
    "    # Search tweets for the keywords and estimate sentiments\n",
    "    # dict_ will will be filled with crypto, date, tweet text, \n",
    "    # polarity and subjectivity for each tweet for a specific crypto\n",
    "    \n",
    "    for status in python_tweets.search(**query)['statuses']:\n",
    "        dict_['crypto'].append(keywords)           # a crypto\n",
    "        dict_['date'].append(status['created_at']) # tweet date\n",
    "        dict_['text'].append(status['text'])       # tweet text\n",
    "        \n",
    "        # Perform Sentiment Analysis on Tweets\n",
    "        # ****************************************\n",
    "        # correct encoding\n",
    "        tweet = status['text'].encode(\"utf-8\")\n",
    "        # use only letters (eliminate strange characters)\n",
    "        tweet=\" \".join(re.findall(\"[a-zA-Z]+\", str(tweet)))\n",
    "        \n",
    "        analysis = TextBlob(tweet.strip())\n",
    "        sentiment = analysis.sentiment\n",
    "        dict_['polarity'] = sentiment.polarity         # evaluated polarity\n",
    "        dict_['subjectivity'] = sentiment.subjectivity # evaluated subjectivity\n",
    "\n",
    "    # Structure data in a pandas DataFrame with the results\n",
    "    df = pd.DataFrame(dict_)\n",
    "    \n",
    "    # return (tweets mean polarity, tweets mean subjectivity)\n",
    "    return (float(df.loc[:,\"polarity\"].mean()),float(df.loc[:,\"subjectivity\"].mean()))"
   ]
  },
  {
   "cell_type": "markdown",
   "metadata": {},
   "source": [
    "Let's test out function with the 5th crypto in Top10:"
   ]
  },
  {
   "cell_type": "code",
   "execution_count": 6,
   "metadata": {},
   "outputs": [
    {
     "name": "stdout",
     "output_type": "stream",
     "text": [
      "* Testing Twitter Sentiments:\n",
      "-> Getting tweets and running sentiment analysis for ('EOS', 'eos')  ...\n",
      "Polarity = -0.05833333333333334 Subjectivity = 0.5\n"
     ]
    }
   ],
   "source": [
    "print('* Testing Twitter Sentiments:')\n",
    "crypto = GetTop10cryptos()[4]\n",
    "print('-> Getting tweets and running sentiment analysis for',crypto,' ...')\n",
    "pol, subj = GetTweetSentiments(crypto,language='en')\n",
    "print('Polarity =', pol, 'Subjectivity =', subj)"
   ]
  },
  {
   "cell_type": "markdown",
   "metadata": {},
   "source": [
    "## Step 3: Entire code for Twiiter Analysis\n",
    "\n",
    "You will use the previous functions to evaluate tweet's sentiments:\n",
    "* First run SaveTwitterCredentials(file2save) to save your credentials. \n",
    "* Load the previous 2 functions: GetTop10cryptos() and GetTweetSentiments(crypto,language='en').\n",
    "\n",
    "Now you can run the full code for tweets sentiment analysis:"
   ]
  },
  {
   "cell_type": "code",
   "execution_count": 7,
   "metadata": {},
   "outputs": [
    {
     "name": "stdout",
     "output_type": "stream",
     "text": [
      "=> Twitter sentiment analysis using only 15 tweets ...\n",
      "2018-11-03 21:14:00.584759\n",
      "*  ('Bitcoin', 'bitcoin') ...\n",
      "*  ('Ethereum', 'ethereum') ...\n",
      "*  ('XRP', 'ripple') ...\n",
      "*  ('Bitcoin Cash', 'bitcoin-cash') ...\n",
      "*  ('EOS', 'eos') ...\n",
      "*  ('Stellar', 'stellar') ...\n",
      "*  ('Litecoin', 'litecoin') ...\n",
      "*  ('Cardano', 'cardano') ...\n",
      "*  ('Tether', 'tether') ...\n",
      "*  ('Monero', 'monero') ...\n",
      "                         crypto  polarity  subjectivity\n",
      "3  Bitcoin Cash OR bitcoin-cash  0.250000      0.500000\n",
      "1          Ethereum OR ethereum  0.200000      0.500000\n",
      "6          Litecoin OR litecoin  0.137500      0.387500\n",
      "0            Bitcoin OR bitcoin  0.000000      0.000000\n",
      "2                 XRP OR ripple  0.000000      0.000000\n",
      "8              Tether OR tether  0.000000      0.000000\n",
      "9              Monero OR monero  0.000000      0.000000\n",
      "4                    EOS OR eos -0.058333      0.500000\n",
      "5            Stellar OR stellar -0.316667      0.422222\n",
      "7            Cardano OR cardano       NaN           NaN\n",
      "\n",
      "* Max polarity:\n",
      "crypto          Bitcoin Cash OR bitcoin-cash\n",
      "polarity                                0.25\n",
      "subjectivity                             0.5\n",
      "Name: 3, dtype: object\n",
      "\n",
      "* Max subjectivity:\n",
      "crypto          Bitcoin Cash OR bitcoin-cash\n",
      "polarity                                0.25\n",
      "subjectivity                             0.5\n",
      "Name: 3, dtype: object\n",
      "Done!\n"
     ]
    }
   ],
   "source": [
    "import pandas as pd\n",
    "import datetime\n",
    "\n",
    "print('=> Twitter sentiment analysis using only 15 tweets ...')\n",
    "print(datetime.datetime.today()) # print datatime of analysis\n",
    "\n",
    "# create a list for statistics\n",
    "stats = []\n",
    "\n",
    "# analyse each crypto in Top10\n",
    "for crypto in GetTop10cryptos():\n",
    "    print('* ', crypto, '...')\n",
    "    # get mean polarity and subjectivity for a crypto (using only 15 tweets)\n",
    "    pol, subj = GetTweetSentiments(crypto,language='en')\n",
    "    # add them to stats\n",
    "    stats.append((crypto[0]+' OR '+crypto[1], pol, subj))\n",
    "\n",
    "# create a dataframe for the mean values using the above list\n",
    "df_stats = pd.DataFrame(stats, columns=['crypto','polarity','subjectivity'])\n",
    "\n",
    "# Sort the results using polarity descending\n",
    "df_stats.sort_values(by='polarity', inplace=True, ascending=False)  \n",
    "\n",
    "# print means of the evaluations\n",
    "print(df_stats)\n",
    "\n",
    "print('\\n* Max polarity:')\n",
    "print(df_stats.loc[df_stats['polarity'].idxmax()])\n",
    "\n",
    "print('\\n* Max subjectivity:')\n",
    "print(df_stats.loc[df_stats['subjectivity'].idxmax()])\n",
    "\n",
    "print('Done!')"
   ]
  },
  {
   "cell_type": "markdown",
   "metadata": {},
   "source": [
    "## Acknowledgements\n",
    "\n",
    "* https://stackabuse.com/accessing-the-twitter-api-with-python/\n",
    "* https://www.youtube.com/watch?v=o_OZdbCzHUA&index=2&list=PL2-dafEMk2A6QKz1mrk1uIGfHkC1zZ6UU\n",
    "* https://github.com/llSourcell/twitter_sentiment_challenge/blob/master/demo.py\n",
    "\n",
    "### Hack for tweepy\n",
    "\n",
    "If you decide to use *tweepy*, it will raise an error with python 3.7! So, you need to repace *async* variable with let's say *tr_async* in *\\Lib\\site-packages\\streaming.py* (https://stackoverflow.com/questions/49339502/tweepy-on-macbook-pycharm-async-invalid-syntax).\n",
    "\n",
    "Have fun!\n",
    "\n",
    "2018@muntisa"
   ]
  },
  {
   "cell_type": "code",
   "execution_count": null,
   "metadata": {},
   "outputs": [],
   "source": []
  }
 ],
 "metadata": {
  "kernelspec": {
   "display_name": "Python 3",
   "language": "python",
   "name": "python3"
  },
  "language_info": {
   "codemirror_mode": {
    "name": "ipython",
    "version": 3
   },
   "file_extension": ".py",
   "mimetype": "text/x-python",
   "name": "python",
   "nbconvert_exporter": "python",
   "pygments_lexer": "ipython3",
   "version": "3.7.1"
  }
 },
 "nbformat": 4,
 "nbformat_minor": 2
}
