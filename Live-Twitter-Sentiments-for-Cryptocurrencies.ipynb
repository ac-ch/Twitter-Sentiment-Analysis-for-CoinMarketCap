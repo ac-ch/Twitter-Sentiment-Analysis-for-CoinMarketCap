{
 "cells": [
  {
   "cell_type": "markdown",
   "metadata": {},
   "source": [
    "# Live Twitter Sentiments for Cryptocurrencies\n",
    "\n",
    "Plot the evolution in time of the tweets sentiment for a cryptocurrency. We will use the *tweepy*'s streaming to see the live evolution of the Twitter sentiments for the cryptocurrencies.\n",
    "\n",
    "* *Inputs*: currency keywords to seach in Twitter, number of tweets to analyse the sentiement, plot update interval in seconds (default = 1.0 seconds).\n",
    "* *Output*: Plot with sentiment analysis and the mean in time for a specific cryptocurrency.\n",
    "* *Note*: The free Twitter plan lets you download *100 Tweets per search*, and you can search Tweets from the previous seven days. *Please check the limits of getting tweets per day or month before to use this script!*\n",
    "\n",
    "### Requirements\n",
    "* *Language*: Python 3.*\n",
    "* *Dependencies*: tweepy = retrieve tweets using APIs; json = handling the API results, textblob = text operations and sentiment analysis, re = text processing, matplotlib = plots, numpy = numerical calculations, IPython = interactive plots into notebooks\n",
    "* *Other tools*: Textblog Corpora for text processing: *python -m textblob.download_corpora*\n",
    "\n",
    "## How to use\n",
    "Complete your twitter API credential and your crypto keywords, number of tweets and run the entire notebook.\n",
    "\n",
    "## Step 1: Import the python dependencies"
   ]
  },
  {
   "cell_type": "code",
   "execution_count": 1,
   "metadata": {},
   "outputs": [],
   "source": [
    "import time, json, re\n",
    "from tweepy import Stream\n",
    "from tweepy import OAuthHandler\n",
    "from tweepy.streaming import StreamListener \n",
    "from textblob import TextBlob\n",
    "import matplotlib.pyplot as plt \n",
    "import numpy as np\n",
    "from IPython.display import clear_output\n",
    "%matplotlib inline"
   ]
  },
  {
   "cell_type": "markdown",
   "metadata": {},
   "source": [
    "## Step 2: Define your data\n",
    "\n",
    "You need to define the keywords, number of tweets, the update interval, and your twitter API keys. Your can define the key here or read them from a JSON file."
   ]
  },
  {
   "cell_type": "code",
   "execution_count": 2,
   "metadata": {},
   "outputs": [
    {
     "name": "stdout",
     "output_type": "stream",
     "text": [
      "-> Reading Twitter API credentials from file ... \n",
      "Done!\n"
     ]
    }
   ],
   "source": [
    "# YOUR preference (to complete)\n",
    "keywords = [\"Bitcoin\", 'BTC']  # a set of keywords for a crypto\n",
    "noTweets = 10                  # number of tweets/connections\n",
    "secUpdate = 1.0                # update interval in seconds \n",
    "\n",
    "# YOUR Twitter API information (to complete)\n",
    "# if you have a local file with your info, ommit these lines\n",
    "CONSUMER_KEY    = 'YOUR DATA'\n",
    "CONSUMER_SECRET = 'YOUR DATA'\n",
    "ACCESS_TOKEN    = 'YOUR DATA'\n",
    "ACCESS_SECRET   = 'YOUR DATA'\n",
    "\n",
    "# Setting a JSON of your credentials (to complete)\n",
    "creds = {\"CONSUMER_KEY\": CONSUMER_KEY, \"CONSUMER_SECRET\": CONSUMER_SECRET,\n",
    "         \"ACCESS_TOKEN\": ACCESS_TOKEN, \"ACCESS_SECRET\": ACCESS_SECRET}\n",
    "\n",
    "# If you didnt define above, load credentials from json file\n",
    "# (overwrite creds with data from file if available)\n",
    "try:\n",
    "    print('-> Reading Twitter API credentials from file ... ')\n",
    "    with open(\"twitter_credentials.json\", \"r\") as file:\n",
    "        creds = json.load(file)\n",
    "    print('Done!')\n",
    "except:\n",
    "    print('! There is no twitter API credential file! Using the information you defined above!')"
   ]
  },
  {
   "cell_type": "markdown",
   "metadata": {},
   "source": [
    "## Step 3: Define a custom class for Twitter streaming\n",
    "\n",
    "We will use some variables as globals in order to input parameters from the main code (currency keywords to seach in Twitter, number of tweets to analyse the sentiement, plot refresh time) and to fill list with tweets sentiment, times of the sentiment analysis and means of the sentiments at a specific time. These list will be used to interactivelly plot the evolution of the sentiment and the mean of sentiments."
   ]
  },
  {
   "cell_type": "code",
   "execution_count": 7,
   "metadata": {},
   "outputs": [],
   "source": [
    "class listener(StreamListener):\n",
    "    def on_data(self,data):\n",
    "        global initime     # to calculate the time of analysis\n",
    "        global inidatetime # to print the initial datetime\n",
    "        global count       # counting the tweets\n",
    "        global t           # list with the time of sentiment analysis\n",
    "        global sent        # list with sentiments at moments t\n",
    "        global sentMeans   # list of sentiment means at different time\n",
    "        \n",
    "        global keywords    # external - list with keywords for a crypto\n",
    "        global noTweets    # external - number of tweets to get with your twitter API \n",
    "        global secUpdate   # external - number of seconds to update the plot\n",
    "        \n",
    "        # update the list for analysis time\n",
    "        currTime = int(time.time()-initime)\n",
    "        t.append(currTime)\n",
    "        \n",
    "        # get the tweet data\n",
    "        all_data=json.loads(data)\n",
    "        # encode to unicode for different types of characters\n",
    "        tweet=all_data[\"text\"].encode(\"utf-8\")\n",
    "        # remove strange characters from the tweet\n",
    "        tweet=\" \".join(re.findall(\"[a-zA-Z]+\", str(tweet)))\n",
    "        # strip the spaces from the tweet\n",
    "        blob=TextBlob(tweet.strip())\n",
    "        \n",
    "        # count the tweets\n",
    "        count=count+1\n",
    "        \n",
    "        # update the list for sentiments and the means at different time \n",
    "        sent.append(blob.sentiment.polarity)\n",
    "        sentMeans.append(np.mean(sent))\n",
    "        \n",
    "        # Plotting sentiment analysis in time for a cryptocurrency\n",
    "        # clear the plot\n",
    "        clear_output(wait=True)\n",
    "        # set axis, labels\n",
    "        plt.axis([ 0, noTweets+int(noTweets/2), -1,1])\n",
    "        plt.xlabel('Time')\n",
    "        plt.ylabel('Twitter sentiment')\n",
    "        # plot sentiments and means in time\n",
    "        plt.plot(t,sent, t,sentMeans)\n",
    "        # print the current mean of sentiments\n",
    "        plt.text(0, 1.2, 'From: '+str(inidatetime)+' To: '+str(time.ctime()))\n",
    "        plt.text(0, 1.1, 'Sentiment Mean for '+str(keywords)+': '+str(np.mean(sent)))\n",
    "        \n",
    "        # add legend\n",
    "        plt.legend(['Sentiment', 'Sentiment Mean'],loc='center left', bbox_to_anchor=(1, 0.5))\n",
    "        # plotting\n",
    "        plt.show()\n",
    "        # wait for update\n",
    "        plt.pause(secUpdate) # wait 1 sec!\n",
    "        \n",
    "        # if we have the number of tweets, end the script\n",
    "        if count==noTweets:\n",
    "            return False\n",
    "        else:\n",
    "            return True\n",
    "        \n",
    "    def on_error(self,status):\n",
    "        print(status)"
   ]
  },
  {
   "cell_type": "markdown",
   "metadata": {},
   "source": [
    "## Step 4: Run the Twitter stream for sentiment analysis\n",
    "\n",
    "Initialize all the variables and use the tweets stream for sentiment analysis plotting:"
   ]
  },
  {
   "cell_type": "code",
   "execution_count": 8,
   "metadata": {
    "scrolled": true
   },
   "outputs": [
    {
     "data": {
      "image/png": "[encoded data removed]",
      "text/plain": [
       "<Figure size 432x288 with 1 Axes>"
      ]
     },
     "metadata": {
      "needs_background": "light"
     },
     "output_type": "display_data"
    }
   ],
   "source": [
    "# Define external variables to be used inside the streaming class\n",
    "t = [0]              # list with time\n",
    "sent = [0]           # list with tweets sentiment in time\n",
    "sentMeans = [0]      # list with means of sentiment in time\n",
    "count=0              # curent number of tweet\n",
    "initime=time.time()  # to calculate the time\n",
    "inidatetime = time.ctime() # initial date time in readable format\n",
    "\n",
    "# setup the twitter screaming\n",
    "auth=OAuthHandler(creds['CONSUMER_KEY'],creds['CONSUMER_SECRET'])\n",
    "auth.set_access_token(creds['ACCESS_TOKEN'],creds['ACCESS_SECRET'])\n",
    "\n",
    "# start the stream with tweets using your keyworks\n",
    "twitterStream = Stream(auth, listener(count))\n",
    "twitterStream.filter(track=keywords)"
   ]
  },
  {
   "cell_type": "markdown",
   "metadata": {},
   "source": [
    "### Hint\n",
    "You can use this notebook for any twitter search, not limited to the cryptocurrencies!\n",
    "\n",
    "Hf!\n",
    "\n",
    "2018@muntisa"
   ]
  },
  {
   "cell_type": "code",
   "execution_count": null,
   "metadata": {},
   "outputs": [],
   "source": []
  }
 ],
 "metadata": {
  "kernelspec": {
   "display_name": "Python 3",
   "language": "python",
   "name": "python3"
  },
  "language_info": {
   "codemirror_mode": {
    "name": "ipython",
    "version": 3
   },
   "file_extension": ".py",
   "mimetype": "text/x-python",
   "name": "python",
   "nbconvert_exporter": "python",
   "pygments_lexer": "ipython3",
   "version": "3.7.1"
  }
 },
 "nbformat": 4,
 "nbformat_minor": 2
}
